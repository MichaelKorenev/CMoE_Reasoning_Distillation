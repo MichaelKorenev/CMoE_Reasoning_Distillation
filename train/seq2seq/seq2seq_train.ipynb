{
 "cells": [
  {
   "cell_type": "code",
   "execution_count": null,
   "id": "72564625",
   "metadata": {
    "tags": []
   },
   "outputs": [],
   "source": [
    "\n",
    "%pip install -q transformers datasets accelerate peft bitsandbytes sentencepiece"
   ]
  },
  {
   "cell_type": "code",
   "execution_count": null,
   "id": "08f47c2f",
   "metadata": {
    "tags": []
   },
   "outputs": [],
   "source": [
    "\n",
    "import torch\n",
    "from transformers import (\n",
    "    AutoTokenizer,\n",
    "    AutoModelForSeq2SeqLM,\n",
    "    BitsAndBytesConfig,\n",
    "    Seq2SeqTrainingArguments,\n",
    "    Seq2SeqTrainer,\n",
    "    DataCollatorForSeq2Seq,\n",
    ")\n",
    "from peft import (\n",
    "    get_peft_model,\n",
    "    LoraConfig,\n",
    "    prepare_model_for_kbit_training,\n",
    "    TaskType,\n",
    ")\n",
    "from datasets import load_dataset\n",
    "import os\n",
    "\n",
    "\n",
    "os.environ[\"TOKENIZERS_PARALLELISM\"] = \"false\"\n",
    "quantization_config = BitsAndBytesConfig(\n",
    "    load_in_4bit=True,\n",
    "    bnb_4bit_quant_type=\"nf4\",\n",
    "    bnb_4bit_compute_dtype=torch.bfloat16,\n",
    "    bnb_4bit_use_double_quant=True,\n",
    ")\n",
    "\n",
    "\n",
    "model_name = \"Vikhrmodels/VikhrT5-3b\"\n",
    "tokenizer = AutoTokenizer.from_pretrained(model_name)\n",
    "\n",
    "special_tokens = {\n",
    "    \"additional_special_tokens\": [\n",
    "        \"<system>\",      \n",
    "        \"</system>\",     \n",
    "        \"<user>\",        \n",
    "        \"</user>\",       \n",
    "        \"<reasoning>\",   \n",
    "        \"</reasoning>\",  \n",
    "        \"<answer>\",      \n",
    "        \"</answer>\",     \n",
    "    ]\n",
    "}\n",
    "\n",
    "\n",
    "tokenizer.add_special_tokens(special_tokens)\n",
    "\n",
    "max_memory = {i: torch.cuda.get_device_properties(i).total_memory for i in range(torch.cuda.device_count())}\n",
    "print(f\"Обнаружена карта памяти: {max_memory}\")\n",
    "\n",
    "model = AutoModelForSeq2SeqLM.from_pretrained(\n",
    "    model_name,\n",
    "    quantization_config=quantization_config,\n",
    "    device_map=\"auto\",\n",
    "    max_memory=max_memory\n",
    ")\n",
    "\n",
    "model.resize_token_embeddings(len(tokenizer))\n",
    "\n",
    "print(f\"Модель {model_name} загружена и распределена по GPU.\")\n",
    "print(\"Карта устройств (device_map):\", model.hf_device_map)\n",
    "print(f\"Добавлены специальные токены: {special_tokens['additional_special_tokens']}\")\n",
    "print(f\"Новый размер словаря: {len(tokenizer)}\")"
   ]
  },
  {
   "cell_type": "code",
   "execution_count": null,
   "id": "50a573f8",
   "metadata": {
    "tags": []
   },
   "outputs": [],
   "source": [
    "def build_prompt_with_special_tokens(sample):\n",
    "\n",
    "    system_content = (\n",
    "        \"**Инструкция для эксперта-аналитика**\\n\"\n",
    "        f\"Тема: '{sample.get('subject', sample.get('domain', 'Общая тема'))}'.\\n\"\n",
    "        \"Ваша задача — выполнить строгий логический анализ предоставленной задачи. Следуйте этому алгоритму:\\n\"\n",
    "        \"1.  **Анализ Задачи:** Кратко определите основной вопрос и какой логический или математический принцип нужно применить.\\n\"\n",
    "        \"2.  **Пошаговая Оценка Вариантов:** Систематически рассмотрите КАЖДЫЙ вариант ответа (A, B, C, D). Для каждого варианта предоставьте четкое и лаконичное объяснение, почему он является верным или неверным в контексте задачи.\\n\"\n",
    "        \"3.  **Синтез и Вывод:** На основе пошагового анализа, сделайте окончательный вывод и выберите единственно правильный ответ.\\n\\n\"\n",
    "        \"**Формат вывода**\\n\"\n",
    "        \"Ваш ответ ДОЛЖЕН СТРОГО соответствовать формату ниже, без лишних вступлений или заключений:\\n\"\n",
    "        \"**Рассуждение:**\\n\"\n",
    "        \"[Здесь ваш детальный анализ по шагам 1-3]\\n\"\n",
    "        \"**Ответ:** [Здесь ОДНА буква: A, B, C или D]\"\n",
    "    )\n",
    "    \n",
    "    user_content = sample.get('original_question', '')\n",
    "    \n",
    "    input_prompt = f\"<system>{system_content}</system>\\n<user>{user_content}</user>\"\n",
    "    \n",
    "    return {\n",
    "        \"system_prompt\": system_content,\n",
    "        \"user_prompt\": user_content,\n",
    "        \"input_prompt\": input_prompt\n",
    "    }"
   ]
  },
  {
   "cell_type": "code",
   "execution_count": null,
   "id": "4f39b02e-6494-4641-93f9-f4532f690001",
   "metadata": {
    "tags": []
   },
   "outputs": [],
   "source": [
    "def format_target_with_special_tokens(reasoning, answer):\n",
    "    cleaned_reasoning = reasoning.strip()\n",
    "    if cleaned_reasoning.startswith(\"**Рассуждение:**\"):\n",
    "        cleaned_reasoning = cleaned_reasoning.replace(\"**Рассуждение:**\", \"\").strip()\n",
    "    \n",
    "    cleaned_answer = answer.strip()\n",
    "    if cleaned_answer.startswith(\"**Ответ:**\"):\n",
    "        cleaned_answer = cleaned_answer.replace(\"**Ответ:**\", \"\").strip()\n",
    "    \n",
    "    target_text = f\"<reasoning>{cleaned_reasoning}</reasoning>\\n<answer>{cleaned_answer}</answer>\"\n",
    "    \n",
    "    return target_text"
   ]
  },
  {
   "cell_type": "code",
   "execution_count": null,
   "id": "fac89ca5-2e61-4f61-9435-be0a55b29548",
   "metadata": {
    "tags": []
   },
   "outputs": [],
   "source": [
    "def test_special_tokens():\n",
    "    dataset_path = \"/home/jupyter/datasphere/project/proc_eval_results_merged_qwen_14b.jsonl\"\n",
    "    test_dataset = load_dataset(\"json\", data_files=dataset_path, split=\"train\")\n",
    "    \n",
    "    real_sample = test_dataset[0]\n",
    "    \n",
    "    print(f\"Колонки: {test_dataset.column_names}\")\n",
    "    print(f\"Размер датасета: {len(test_dataset)}\")\n",
    "    print(\"\\nРеальный пример:\")\n",
    "    for key, value in real_sample.items():\n",
    "        if isinstance(value, str) and len(value) > 200:\n",
    "            print(f\"{key}: {value[:200]}...\")\n",
    "        else:\n",
    "            print(f\"{key}: {value}\")\n",
    "    print(\"=\"*60)\n",
    "    \n",
    "    prompt_data = build_prompt_with_special_tokens(real_sample)\n",
    "    target_text = format_target_with_special_tokens(\n",
    "        real_sample['cleaned_reasoning'], \n",
    "        real_sample['model_extracted_answer']\n",
    "    )\n",
    "    \n",
    "    print(\"Входной промпт:\")\n",
    "    print(prompt_data['input_prompt'])\n",
    "    print(\"\\nЦелевой текст:\")\n",
    "    print(target_text)\n",
    "    print(\"\\nТокенизация входного промпта:\")\n",
    "    input_tokens = tokenizer(prompt_data['input_prompt'])\n",
    "    print(f\"Количество токенов: {len(input_tokens['input_ids'])}\")\n",
    "    print(\"Первые 20 токенов:\", input_tokens['input_ids'][:20])\n",
    "    print(\"\\nТокенизация целевого текста:\")\n",
    "    target_tokens = tokenizer(target_text)\n",
    "    print(f\"Количество токенов: {len(target_tokens['input_ids'])}\")\n",
    "    print(\"Первые 20 токенов:\", target_tokens['input_ids'][:20])\n",
    "    \n",
    "    special_token_ids = [tokenizer.convert_tokens_to_ids(token) for token in special_tokens['additional_special_tokens']]\n",
    "    print(f\"\\nID специальных токенов: {special_token_ids}\")\n",
    "    \n",
    "    input_token_ids = input_tokens['input_ids']\n",
    "    target_token_ids = target_tokens['input_ids']\n",
    "    \n",
    "    for token_id in special_token_ids:\n",
    "        input_count = input_token_ids.count(token_id)\n",
    "        target_count = target_token_ids.count(token_id)\n",
    "        token_name = tokenizer.convert_ids_to_tokens(token_id)\n",
    "        print(f\"{token_name} (ID: {token_id}): {input_count} в input, {target_count} в target\")\n",
    "    \n",
    "    return prompt_data, target_text"
   ]
  },
  {
   "cell_type": "code",
   "execution_count": null,
   "id": "b8dff87c-e6b6-4154-a616-f668140b6ba9",
   "metadata": {},
   "outputs": [],
   "source": [
    "test_special_tokens()"
   ]
  },
  {
   "cell_type": "code",
   "execution_count": null,
   "id": "3162856a",
   "metadata": {
    "tags": []
   },
   "outputs": [],
   "source": [
    "model = prepare_model_for_kbit_training(model)\n",
    "\n",
    "lora_config = LoraConfig(\n",
    "    r=16,\n",
    "    lora_alpha=32,\n",
    "    target_modules=[\"q\", \"k\", \"v\", \"o\"],\n",
    "    lora_dropout=0.05,\n",
    "    bias=\"none\",\n",
    "    task_type=TaskType.SEQ_2_SEQ_LM\n",
    ")\n",
    "\n",
    "model = get_peft_model(model, lora_config)\n",
    "model.print_trainable_parameters()\n",
    "\n",
    "\n",
    "dataset_path = \"/home/jupyter/datasphere/project/proc_eval_results_merged_qwen_14b.jsonl\"\n",
    "full_dataset = load_dataset(\"json\", data_files=dataset_path, split=\"train\")\n",
    "\n",
    "train_test_split = full_dataset.train_test_split(test_size=0.1, seed=42)\n",
    "dataset_train = train_test_split[\"train\"]\n",
    "dataset_eval = train_test_split[\"test\"]\n",
    "\n",
    "\n",
    "dataset_train = dataset_train.map(build_prompt_with_special_tokens)\n",
    "dataset_eval = dataset_eval.map(build_prompt_with_special_tokens)\n",
    "\n",
    "def preprocess_function_with_special_tokens(examples):\n",
    "    model_inputs = tokenizer(examples[\"input_prompt\"], max_length=2048, truncation=True)\n",
    "    \n",
    "    target_texts = []\n",
    "    \n",
    "    for i in range(len(examples[\"input_prompt\"])):\n",
    "        reasoning = examples[\"cleaned_reasoning\"][i]  \n",
    "        answer = examples[\"model_extracted_answer\"][i]\n",
    "        target_text = format_target_with_special_tokens(reasoning, answer)\n",
    "        target_texts.append(target_text)\n",
    "    \n",
    "\n",
    "    with tokenizer.as_target_tokenizer():\n",
    "        labels = tokenizer(target_texts, max_length=2048, truncation=True)\n",
    "        \n",
    "    model_inputs[\"labels\"] = labels[\"input_ids\"]\n",
    "    return model_inputs\n",
    "\n",
    "tokenized_dataset_train = dataset_train.map(preprocess_function_with_special_tokens, batched=True, remove_columns=dataset_train.column_names)\n",
    "tokenized_dataset_eval = dataset_eval.map(preprocess_function_with_special_tokens, batched=True, remove_columns=dataset_eval.column_names)\n",
    "\n",
    "\n",
    "data_collator = DataCollatorForSeq2Seq(tokenizer=tokenizer, model=model)\n",
    "\n",
    "training_args = Seq2SeqTrainingArguments(\n",
    "    output_dir=\"VikhrT5_3b_distilled_from_reasoning\",\n",
    "    group_by_length=True,\n",
    "    \n",
    "    per_device_train_batch_size=4,  \n",
    "    gradient_accumulation_steps=2,  \n",
    "    \n",
    "    \n",
    "    learning_rate=3e-4,             \n",
    "    lr_scheduler_type=\"cosine\",     \n",
    "    num_train_epochs=2,             \n",
    "    #weight_decay=0.005,\n",
    "    #warmup_ratio=0.05,\n",
    "    \n",
    "    \n",
    "    save_strategy=\"steps\",          \n",
    "    do_eval=True,                       \n",
    "    \n",
    "    \n",
    "    gradient_checkpointing=True,\n",
    "    optim=\"paged_adamw_8bit\",\n",
    "    logging_steps=100,\n",
    "    eval_steps=100,\n",
    "    bf16=True,\n",
    "    report_to=\"none\",\n",
    "    \n",
    "    eval_strategy=\"steps\",                \n",
    "    save_steps = 200,                    \n",
    "    load_best_model_at_end = True,   \n",
    "    save_total_limit = 4,\n",
    ")"
   ]
  },
  {
   "cell_type": "code",
   "execution_count": null,
   "id": "f4b9f61c-82ab-4b2a-b594-0a07e5a4ac3b",
   "metadata": {
    "tags": []
   },
   "outputs": [],
   "source": [
    "trainer = Seq2SeqTrainer(\n",
    "    model=model,\n",
    "    args=training_args,\n",
    "    train_dataset=tokenized_dataset_train, \n",
    "    eval_dataset=tokenized_dataset_eval,   \n",
    "    tokenizer=tokenizer,\n",
    "    data_collator=data_collator\n",
    ")"
   ]
  },
  {
   "cell_type": "code",
   "execution_count": null,
   "id": "07ce262d-bad4-4531-9e64-ec5fa44574b5",
   "metadata": {
    "tags": []
   },
   "outputs": [],
   "source": []
  },
  {
   "cell_type": "code",
   "execution_count": null,
   "id": "d5329763",
   "metadata": {
    "tags": []
   },
   "outputs": [],
   "source": [
    "train_result = trainer.train()"
   ]
  },
  {
   "cell_type": "code",
   "execution_count": null,
   "id": "4abd406a-57f3-4b24-b055-8d2f4ee5318b",
   "metadata": {},
   "outputs": [],
   "source": []
  },
  {
   "cell_type": "code",
   "execution_count": null,
   "id": "95d279fb-c4e5-4321-81f9-ea4c409ef4eb",
   "metadata": {},
   "outputs": [],
   "source": [
    "final_adapter_path = \"VikhrT5-3b-large-best-lora-adapter\"\n",
    "print(f\"\\nСохраняем лучший LoRA-адаптер в: {final_adapter_path}\")\n",
    "\n",
    "\n",
    "trainer.save_model(final_adapter_path)\n",
    "tokenizer.save_pretrained(final_adapter_path)\n",
    "\n",
    "\n",
    "\n",
    "print(f\"лучший LoRA-адаптер сохранен в директории: {final_adapter_path}\")\n",
    "print(\"После завершения сессии Kaggle вы сможете скачать эту папку из раздела 'Output'.\")\n",
    "print(\"=\"*50)"
   ]
  },
  {
   "cell_type": "code",
   "execution_count": null,
   "id": "0db01799-a62f-487d-90b5-a6c91f2395d1",
   "metadata": {},
   "outputs": [],
   "source": [
    "trainer.save_model(\"final_best_model\") \n",
    "print(\"Лучшая модель сохранена в папку 'final_best_model'\")"
   ]
  },
  {
   "cell_type": "code",
   "execution_count": null,
   "id": "8c946a5f-89ba-43f1-9d0c-52fad1747d42",
   "metadata": {},
   "outputs": [],
   "source": []
  },
  {
   "cell_type": "code",
   "execution_count": null,
   "id": "af96f5fe-fae9-4630-8ad9-c69878cc6055",
   "metadata": {},
   "outputs": [],
   "source": []
  },
  {
   "cell_type": "code",
   "execution_count": null,
   "id": "ecccd614-d57e-4b4c-863d-19148b1e29b4",
   "metadata": {},
   "outputs": [],
   "source": []
  },
  {
   "cell_type": "code",
   "execution_count": null,
   "id": "b28ffc22-af80-41bb-b176-6152de243a67",
   "metadata": {
    "execution": {
     "iopub.execute_input": "2025-07-24T17:10:01.282273Z",
     "iopub.status.busy": "2025-07-24T17:10:01.281492Z"
    },
    "tags": []
   },
   "outputs": [
    {
     "name": "stderr",
     "output_type": "stream",
     "text": [
      "/home/jupyter/.local/lib/python3.10/site-packages/transformers/utils/hub.py:111: FutureWarning: Using `TRANSFORMERS_CACHE` is deprecated and will be removed in v5 of Transformers. Use `HF_HOME` instead.\n",
      "  warnings.warn(\n",
      "2025-07-24 17:10:09.290387: I tensorflow/core/platform/cpu_feature_guard.cc:182] This TensorFlow binary is optimized to use available CPU instructions in performance-critical operations.\n",
      "To enable the following instructions: AVX2 FMA, in other operations, rebuild TensorFlow with the appropriate compiler flags.\n",
      "2025-07-24 17:10:10.080899: W tensorflow/compiler/tf2tensorrt/utils/py_utils.cc:38] TF-TRT Warning: Could not find TensorRT\n"
     ]
    },
    {
     "name": "stdout",
     "output_type": "stream",
     "text": [
      "Загрузка модели и токенизатора...\n",
      "Загрузка токенизатора из '/home/jupyter/datasphere/project/final_best_model'...\n",
      "Токенизатор со специальными токенами загружен.\n",
      "Загрузка базовой модели 'Vikhrmodels/VikhrT5-3b' с квантизацией...\n",
      "Карта памяти для GPU: {0: '85.17GB'}\n"
     ]
    },
    {
     "name": "stderr",
     "output_type": "stream",
     "text": [
      "Loading checkpoint shards: 100%|██████████| 3/3 [00:03<00:00,  1.08s/it]\n",
      "The new embeddings will be initialized from a multivariate normal distribution that has old embeddings' mean and covariance. As described in this article: https://nlp.stanford.edu/~johnhew/vocab-expansion.html. To disable this, use `mean_resizing=False`\n",
      "The new lm_head weights will be initialized from a multivariate normal distribution that has old embeddings' mean and covariance. As described in this article: https://nlp.stanford.edu/~johnhew/vocab-expansion.html. To disable this, use `mean_resizing=False`\n"
     ]
    },
    {
     "name": "stdout",
     "output_type": "stream",
     "text": [
      "Применение LoRA-адаптера из '/home/jupyter/datasphere/project/final_best_model'...\n",
      "Модель готова к инференсу на устройстве: cuda:0\n",
      "Загрузка и подготовка данных из '/home/jupyter/datasphere/project/proc_eval_results_merged_qwen_14b.jsonl'...\n",
      "Установлен EOS токен для остановки генерации: '</answer>' (ID: 58247)\n",
      "Результаты будут сохранены в: evaluation_results_vikhr3b_distilled.jsonl\n"
     ]
    },
    {
     "name": "stderr",
     "output_type": "stream",
     "text": [
      "Оценка модели:   1%|▏         | 3/210 [05:02<5:47:50, 100.82s/it, ✅=0, ❌=0, ❓=96]"
     ]
    }
   ],
   "source": []
  }
 ],
 "metadata": {
  "kaggle": {
   "accelerator": "gpu",
   "dataSources": [
    {
     "datasetId": 7919126,
     "sourceId": 12543327,
     "sourceType": "datasetVersion"
    },
    {
     "datasetId": 7919547,
     "sourceId": 12543891,
     "sourceType": "datasetVersion"
    }
   ],
   "dockerImageVersionId": 31090,
   "isGpuEnabled": true,
   "isInternetEnabled": true,
   "language": "python",
   "sourceType": "notebook"
  },
  "kernelspec": {
   "display_name": "DataSphere Kernel",
   "language": "python",
   "name": "python3"
  },
  "language_info": {
   "codemirror_mode": {
    "name": "ipython",
    "version": 3
   },
   "file_extension": ".py",
   "mimetype": "text/x-python",
   "name": "python",
   "nbconvert_exporter": "python",
   "pygments_lexer": "ipython3",
   "version": "3.10.12"
  }
 },
 "nbformat": 4,
 "nbformat_minor": 5
}
