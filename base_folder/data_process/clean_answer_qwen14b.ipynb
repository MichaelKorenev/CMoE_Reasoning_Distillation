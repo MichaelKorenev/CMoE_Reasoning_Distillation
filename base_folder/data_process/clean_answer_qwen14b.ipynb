{
 "cells": [
  {
   "cell_type": "code",
   "execution_count": null,
   "id": "f27edcd3",
   "metadata": {},
   "outputs": [],
   "source": [
    "import json\n",
    "\n",
    "input_filename = '/content/eval_results_processed_other_qwen14b.jsonl'\n",
    "output_filename = 'only_correct_eval_results_other_qwen14b.jsonl'\n",
    "\n",
    "\n",
    "def transform_jsonl(input_path, output_path):\n",
    "\n",
    "    processed_count = 0\n",
    "\n",
    "    with open(input_path, 'r', encoding='utf-8') as infile, \\\n",
    "         open(output_path, 'w', encoding='utf-8') as outfile:\n",
    "        \n",
    "        for line in infile:\n",
    "            original_data = json.loads(line)\n",
    "\n",
    "            if original_data.get('result') == 'CORRECT':\n",
    "                transformed_data = {\n",
    "                    \"id\": original_data.get('id'),\n",
    "                    \"original_question\": original_data.get('original_question'),\n",
    "                    \"cleaned_reasoning\": original_data.get('full_generated_text'),\n",
    "                    \"model_extracted_answer\": original_data.get('model_answer'),\n",
    "                    \"ground_truth_answer\": original_data.get('ground_truth'),\n",
    "                    \"is_correct\": True\n",
    "                }\n",
    "\n",
    "                new_line = json.dumps(transformed_data, ensure_ascii=False)\n",
    "                \n",
    "\n",
    "                outfile.write(new_line + '\\n')\n",
    "                processed_count += 1\n",
    "\n",
    "    print(f\"Готово! Обработано и записано {processed_count} строк в файл '{output_path}'.\")\n",
    "\n",
    "transform_jsonl(input_filename, output_filename)"
   ]
  }
 ],
 "metadata": {
  "language_info": {
   "name": "python"
  }
 },
 "nbformat": 4,
 "nbformat_minor": 5
}
