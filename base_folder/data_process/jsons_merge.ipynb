{
 "cells": [
  {
   "cell_type": "code",
   "execution_count": null,
   "id": "f27edcd3",
   "metadata": {},
   "outputs": [],
   "source": [
    "input_files = ['/content/only_correct_eval_results_math_cs_qwen14b.jsonl',\\\n",
    "               '/content/only_correct_eval_results_natural_sciences_qwen14b.jsonl',\\\n",
    "               '/content/only_correct_eval_results_other_qwen14b.jsonl.jsonl',\\\n",
    "               '/content/only_correct_eval_results_social_humanities_qwen14b.jsonl'] \n",
    "output_file = 'eval_results_merged_qwen_14b.jsonl'\n",
    "\n",
    "with open(output_file, 'w', encoding='utf-8') as outfile:\n",
    "    for filename in input_files:\n",
    "        try:\n",
    "            with open(filename, 'r', encoding='utf-8') as infile:\n",
    "                for line in infile:\n",
    "                    outfile.write(line)\n",
    "            print(f\"Файл '{filename}' успешно добавлен.\")\n",
    "        except FileNotFoundError:\n",
    "            print(f\"ВНИМАНИЕ: Файл '{filename}' не найден и будет пропущен.\")\n",
    "\n",
    "print(f\"\\nГотово! Все файлы слиты в '{output_file}'.\")"
   ]
  }
 ],
 "metadata": {
  "language_info": {
   "name": "python"
  }
 },
 "nbformat": 4,
 "nbformat_minor": 5
}
