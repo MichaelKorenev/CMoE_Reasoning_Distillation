{
 "cells": [
  {
   "cell_type": "code",
   "execution_count": null,
   "metadata": {
    "_cell_guid": "b1076dfc-b9ad-4769-8c92-a6c4dae69d19",
    "_uuid": "8f2839f25d086af736a60e9eeb907d3b93b6e0e5",
    "trusted": true
   },
   "outputs": [],
   "source": [
    "!pip install unsloth"
   ]
  },
  {
   "cell_type": "code",
   "execution_count": null,
   "metadata": {
    "trusted": true
   },
   "outputs": [],
   "source": [
    "import os\n",
    "from unsloth import FastLanguageModel\n",
    "import torch\n",
    "max_seq_length = 3056 \n",
    "dtype = None \n",
    "load_in_4bit = True\n",
    "\n",
    "fourbit_models = [\n",
    "    \"unsloth/Meta-Llama-3.1-8B-bnb-4bit\",     \n",
    "    \"unsloth/Meta-Llama-3.1-8B-Instruct-bnb-4bit\",\n",
    "    \"unsloth/Meta-Llama-3.1-70B-bnb-4bit\",\n",
    "    \"unsloth/Meta-Llama-3.1-405B-bnb-4bit\",    \n",
    "    \"unsloth/Mistral-Nemo-Base-2407-bnb-4bit\",\n",
    "    \"unsloth/Mistral-Nemo-Instruct-2407-bnb-4bit\",\n",
    "    \"unsloth/mistral-7b-v0.3-bnb-4bit\",       \n",
    "    \"unsloth/mistral-7b-instruct-v0.3-bnb-4bit\",\n",
    "    \"unsloth/Phi-3.5-mini-instruct\",           \n",
    "    \"unsloth/Phi-3-medium-4k-instruct\",\n",
    "    \"unsloth/gemma-2-9b-bnb-4bit\",\n",
    "    \"unsloth/gemma-2-27b-bnb-4bit\",           \n",
    "]\n",
    "\n",
    "model, tokenizer = FastLanguageModel.from_pretrained(\n",
    "    model_name = \"unsloth/Meta-Llama-3.1-8B-Instruct-bnb-4bit\",\n",
    "    max_seq_length = max_seq_length,\n",
    "    dtype = dtype,\n",
    "    load_in_4bit = load_in_4bit\n",
    ")\n"
   ]
  },
  {
   "cell_type": "code",
   "execution_count": null,
   "metadata": {
    "trusted": true
   },
   "outputs": [],
   "source": [
    "model = FastLanguageModel.get_peft_model(\n",
    "    model,\n",
    "    r = 24,\n",
    "    target_modules = [\"q_proj\", \"k_proj\", \"v_proj\", \"o_proj\",\n",
    "                      \"gate_proj\", \"up_proj\", \"down_proj\",],\n",
    "    lora_alpha = 32,\n",
    "    lora_dropout = 0.05, \n",
    "    bias = \"none\",    \n",
    "    use_gradient_checkpointing = \"unsloth\",\n",
    "    random_state = 3407,\n",
    "    use_rslora = False,  \n",
    "    loftq_config = None, \n",
    ")\n"
   ]
  },
  {
   "cell_type": "code",
   "execution_count": null,
   "metadata": {
    "trusted": true
   },
   "outputs": [],
   "source": [
    "import json\n",
    "from datasets import Dataset\n",
    "\n",
    "data_path = \"/home/jupyter/datasphere/project/category_1_math_cs_qwen_with_qdrant.jsonl\"\n",
    "\n",
    "EOS_TOKEN = tokenizer.eos_token\n",
    "\n",
    "def create_chat_dataset(file_path):\n",
    "    formatted_data = []\n",
    "    with open(file_path, 'r', encoding='utf-8') as f:\n",
    "        for line in f:\n",
    "            record = json.loads(line)\n",
    "            original_question = record.get(\"original_question\")\n",
    "            cleaned_reasoning = record.get(\"cleaned_reasoning\")\n",
    "            model_answer = record.get(\"model_extracted_answer\")\n",
    "            qdrant_list = record.get(\"qdrant_answer\", [])\n",
    "\n",
    "            if original_question and cleaned_reasoning and model_answer:\n",
    "                qdrant_text = \"\\n\\n\".join(qdrant_list) if qdrant_list else \"\"\n",
    "\n",
    "                qdrant_block = f\"\\n\\n---\\nПолезная справочная информация:\\n{qdrant_text}\" if qdrant_text else \"\"\n",
    "\n",
    "                prompt = f\"\"\"Реши задачу пошагово на русском языке, объясняя каждое действие. Покажи все размышления, вычисления, логические выводы и проверь расчеты перед окончательным ответом.\n",
    "Задача, которую нужно решить: {original_question}{qdrant_block}\n",
    "\n",
    "Твой ответ должен быть кратким, точным и содержать только следующие блоки:\n",
    "\n",
    "Рассуждение:\n",
    "[Шаг 1 – объяснение и вычисления]\n",
    "[Шаг 2 – проверка расчетов]\n",
    "Ответ: [Только одна буква: A, B, C или D].\n",
    "\"\"\" + EOS_TOKEN\n",
    "\n",
    "                answer = f\"**Рассуждение:**\\n{cleaned_reasoning}\\n**Ответ: {model_answer}**\" + EOS_TOKEN\n",
    "\n",
    "                formatted_data.append({\n",
    "                    \"user\": prompt,\n",
    "                    \"assistant\": answer\n",
    "                })\n",
    "\n",
    "    return Dataset.from_list(formatted_data)\n",
    "\n",
    "dataset = create_chat_dataset(data_path)\n",
    "split = dataset.train_test_split(test_size=0.1)\n",
    "train_dataset = split[\"train\"]\n",
    "eval_dataset = split[\"test\"]\n"
   ]
  },
  {
   "cell_type": "code",
   "execution_count": null,
   "metadata": {
    "trusted": true
   },
   "outputs": [],
   "source": [
    "def simple_formatting_func(examples):\n",
    "    if isinstance(examples[\"user\"], list):\n",
    "        texts = []\n",
    "        for i in range(len(examples[\"user\"])):\n",
    "            text = f\"{examples['user'][i]}{examples['assistant'][i]}\"\n",
    "            texts.append(text)\n",
    "        return texts\n",
    "    else:\n",
    "        text = f\"{examples['user']}{examples['assistant']}\"\n",
    "        return [text]\n",
    "\n",
    "from trl import SFTConfig, SFTTrainer\n",
    "trainer = SFTTrainer(\n",
    "    model = model,\n",
    "    tokenizer = tokenizer,\n",
    "    train_dataset = train_dataset,\n",
    "    eval_dataset = eval_dataset,\n",
    "    task_type=\"QUESTION_ANS\",\n",
    "    dataset_text_field = \"text\",\n",
    "    max_seq_length = max_seq_length,\n",
    "    packing = True,\n",
    "    formatting_func = simple_formatting_func,\n",
    "    args = SFTConfig(\n",
    "        per_device_train_batch_size = 2,\n",
    "        gradient_accumulation_steps = 8,\n",
    "        warmup_ratio = 0.1,\n",
    "        num_train_epochs = 2, \n",
    "        max_steps = 200,\n",
    "        learning_rate = 3e-4,\n",
    "        logging_steps = 1,\n",
    "        optim = \"adamw_8bit\",\n",
    "        weight_decay = 0.005,\n",
    "        lr_scheduler_type = \"cosine\",\n",
    "        max_grad_norm=0.5,\n",
    "        seed = 3407,\n",
    "        output_dir = \"outputs\",\n",
    "        report_to = \"none\",\n",
    "    ),\n",
    ")\n"
   ]
  },
  {
   "cell_type": "code",
   "execution_count": null,
   "metadata": {
    "trusted": true
   },
   "outputs": [],
   "source": [
    "trainer_stats = trainer.train()\n",
    "print(\">>> Сохранение обученных адаптеров...\")\n",
    "output_dir = \"lora_model_qwen3_14b (category_1_math_cs_qwen_with_qdrant)\"\n",
    "trainer.save_model(output_dir)\n",
    "print(f\">>> Модель сохранена в папку: {output_dir}\")"
   ]
  }
 ],
 "metadata": {
  "kaggle": {
   "accelerator": "none",
   "dataSources": [],
   "dockerImageVersionId": 31089,
   "isGpuEnabled": false,
   "isInternetEnabled": true,
   "language": "python",
   "sourceType": "notebook"
  },
  "kernelspec": {
   "display_name": "Python 3",
   "language": "python",
   "name": "python3"
  },
  "language_info": {
   "codemirror_mode": {
    "name": "ipython",
    "version": 3
   },
   "file_extension": ".py",
   "mimetype": "text/x-python",
   "name": "python",
   "nbconvert_exporter": "python",
   "pygments_lexer": "ipython3",
   "version": "3.11.13"
  }
 },
 "nbformat": 4,
 "nbformat_minor": 4
}
